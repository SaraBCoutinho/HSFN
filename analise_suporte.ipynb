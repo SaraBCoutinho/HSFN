{
 "cells": [
  {
   "cell_type": "markdown",
   "id": "64160294",
   "metadata": {},
   "source": [
    "Para o calculo do suporte foram considerados os classificadores que obtiveram os maiores resultados em cada métrica e conjunto de dados. "
   ]
  },
  {
   "cell_type": "code",
   "execution_count": 2,
   "id": "156dd3d4",
   "metadata": {},
   "outputs": [],
   "source": [
    "from collections import Counter\n",
    "import pandas as pd"
   ]
  },
  {
   "cell_type": "code",
   "execution_count": 3,
   "id": "211b27f1",
   "metadata": {},
   "outputs": [],
   "source": [
    "%%capture\n",
    "!pip install mlxtend"
   ]
  },
  {
   "cell_type": "code",
   "execution_count": 4,
   "id": "74c72909",
   "metadata": {},
   "outputs": [],
   "source": [
    "from mlxtend.frequent_patterns import apriori"
   ]
  },
  {
   "cell_type": "code",
   "execution_count": 29,
   "id": "3aa43c4a",
   "metadata": {},
   "outputs": [
    {
     "name": "stderr",
     "output_type": "stream",
     "text": [
      "C:\\Users\\Sara\\anaconda3\\lib\\site-packages\\ipykernel\\ipkernel.py:287: DeprecationWarning: `should_run_async` will not call `transform_cell` automatically in the future. Please pass the result to `transformed_cell` argument and any exception that happen during thetransform in `preprocessing_exc_tuple` in IPython 7.17 and above.\n",
      "  and should_run_async(code)\n"
     ]
    }
   ],
   "source": [
    "grupos = [\n",
    "    [\"CV-EXTRA\", \"TFIDF-RF\", \"GLOVE-RF\", \"W2V-SVM\", \"TFIDF-EXTRA\", \"W2V-MLP\",\"W2V-LR\",\"FAST-RF\", \"TFIDF-SVM\", \"W2V-RF\", \"TFIDF-CNN\", \"FAST-SVM\", \"FAST-MLP\",\"TFIDF-MLP\", \"FAST-KNN\", \"NB-FAST\",\"W2V-KNN\",\"W2V-EXTRA\",\"TFIDF-KNN\"],\n",
    "    [\"W2V-SVM\"],\n",
    "    [\"TFIDF-CNN\", \"W2V-MLP\", \"CV-EXTRA\", \"W2V-RF\", \"FAST-RF\", \"NB-FAST\", \"TFIDF-RF\",\"FAST-MLP\", \"TFIDF-EXTRA\", \"TFIDF-SVM\", \"W2V-LR\", \"TFIDF-MLP\", \"W2V-SVM\", \"FAST-SVM\", \"GLOVE-RF\", \"W2V-KNN\", \"TFIDF-KNN\", \"GLOVE-SVM\", \"FAST-KNN\", \"W2V-EXTRA\", \"CV-KNN\"],\n",
    "    [\"W2V-MLP\", \"FAST-RF\", \"W2V-RF\", \"CV-EXTRA\", \"TFIDF-EXTRA\", \"TFIDF-SVM\", \"TFIDF-RF\", \"FAST-MLP\", \"TFIDF-MLP\", \"W2V-LR\", \"NB-FAST\", \"FAST-SVM\", \"W2V-SVM\", \"TFIDF-CNN\", \"GLOVE-RF\",\"W2V-KNN\", \"FAST-KNN\", \"TFIDF-KNN\", \"GLOVE-SVM\", \"W2V-EXTRA\", \"CV-KNN\"],\n",
    "    [\"W2V-SVM\"],\n",
    "    [\"W2V-SVM\"],\n",
    "    [\"W2V-SVM\", \"W2V-KNN\", \"NB-FAST\", \"FAST-MLP\", \"TFIDF-SVM\"],\n",
    "    [\"W2V-SVM\", \"W2V-KNN\", \"NB-FAST\", \"FAST-MLP\", \"TFIDF-SVM\"],\n",
    "    [\"TFIDF-SVM\", \"CV-EXTRA\", \"NB-TFIDF\", \"CV-MLP\", \"W2V-LR\", \"TFIDF-MLP\",\"TFIDF-EXTRA\", \"TFIDF-CNN\", \"CV-SVM\", \"FAST-CNN\", \"NB-CV\", \"W2V-SVM\", \"TFIDF-RF\", \"W2V-CNN\", \"CV-CNN\", \"W2V-MLP\",\"FAST-SVM\", \"TFIDF-KNN\", \"TFIDF-LR\", \"FAST-MLP\", \"FAST-EXTRA\", \"FAST-LR\", \"FAST-RF\", \"W2V-EXTRA\", \"W2V-RF\", \"W2V-KNN\", \"FAST-KNN\", \"GLOVE-SVM\", \"GLOVE-MLP\", \"GLOVE-RF\", \"GLOVE-EXTRA\",\"NB-FAST\", \"GLOVE-CNN\", \"NB-W2V\", \"GLOVE-KNN\", \"CV-KNN\",\"NB-GLOVE\"],\n",
    "    [\"TFIDF-SVM\", \"CV-EXTRA\", \"NB-TFIDF\", \"FAST-SVM\", \"CV-MLP\", \"TFIDF-MLP\", \"TFIDF-EXTRA\", \"TFIDF-CNN\", \"CV-SVM\", \"FAST-CNN\", \"NB-CV\", \"W2V-CNN\", \"W2V-SVM\", \"TFIDF-RF\", \"W2V-KNN\", \"TFIDF-KNN\", \"TFIDF-LR\", \"FAST-MLP\", \"FAST-EXTRA\", \"FAST-LR\", \"FAST-RF\", \"W2V-EXTRA\", \"W2V-RF\", \"FAST-KNN\", \"GLOVE-CNN\", \"GLOVE-SVM\", \"GLOVE-MLP\", \"GLOVE-RF\", \"CV-KNN\", \"NB-FAST\", \"GLOVE-KNN\"],\n",
    "    [\"TFIDF-SVM\", \"CV-EXTRA\", \"NB-TFIDF\", \"CV-MLP\", \"W2V-LR\", \"TFIDF-MLP\",\"TFIDF-EXTRA\", \"TFIDF-CNN\", \"CV-SVM\", \"FAST-CNN\", \"NB-CV\", \"W2V-SVM\", \"TFIDF-RF\", \"W2V-CNN\", \"CV-CNN\", \"W2V-MLP\",\"FAST-SVM\", \"TFIDF-KNN\", \"TFIDF-LR\", \"FAST-MLP\", \"FAST-EXTRA\", \"FAST-LR\", \"FAST-RF\", \"W2V-EXTRA\", \"W2V-RF\", \"W2V-KNN\", \"FAST-KNN\", \"GLOVE-SVM\", \"GLOVE-MLP\", \"GLOVE-RF\", \"GLOVE-EXTRA\",\"NB-FAST\", \"GLOVE-CNN\", \"NB-W2V\", \"GLOVE-KNN\", \"CV-KNN\",\"NB-GLOVE\"],\n",
    "    [\"TFIDF-SVM\", \"CV-EXTRA\", \"NB-TFIDF\", \"FAST-SVM\", \"CV-MLP\", \"TFIDF-MLP\", \"TFIDF-EXTRA\", \"TFIDF-CNN\", \"CV-SVM\", \"FAST-CNN\", \"NB-CV\", \"W2V-SVM\", \"TFIDF-RF\", \"W2V-KNN\", \"W2V-CNN\", \"TFIDF-KNN\", \"TFIDF-LR\", \"FAST-MLP\", \"FAST-EXTRA\",\"FAST-LR\",\"FAST-RF\", \"W2V-EXTRA\", \"W2V-RF\", \"FAST-KNN\", \"GLOVE-SVM\", \"GLOVE-RF\", \"GLOVE-MLP\",\"NB-FAST\", \"GLOVE-CNN\", \"GLOVE-KNN\", \"CV-KNN\"],\n",
    "    [\"TFIDF-KNN\", \"W2V-KNN\", \"W2V-LR\", \"NB-CV\", \"W2V-SVM\", \"NB-GLOVE\", \"TFIDF-CNN\", \"GLOVE-SVM\", \"CV-KNN\", \"CV-RF\", \"FAST-SVM\", \"FAST-KNN\", \"FAST-CNN\", \"NB-FAST\", \"CV-SVM\", \"W2V-RF\", \"CV-EXTRA\", \"GLOVE-EXTRA\", \"TFIDF-SVM\", \"GLOVE-KNN\", \"NB-W2V\", \"GLOVE-MLP\", \"CV-MLP\", \"TFIDF-MLP\", \"GLOVE-CNN\", \"CV-LR\", \"W2V-EXTRA\", \"TFIDF-EXTRA\", \"FAST-RF\", \"W2V-CNN\", \"FAST-EXTRA\", \"FAST-MLP\", \"TFIDF-RF\", \"CV-CNN\", \"W2V-MLP\"],\n",
    "    [\"NB-CV\", \"TFIDF-KNN\", \"W2V-KNN\", \"CV-KNN\", \"NB-GLOVE\", \"FAST-KNN\", \"W2V-SVM\", \"W2V-LR\", \"FAST-CNN\", \"CV-SVM\", \"GLOVE-SVM\", \"CV-RF\", \"TFIDF-CNN\", \"FAST-SVM\", \"W2V-RF\", \"NB-FAST\", \"GLOVE-EXTRA\", \"CV-EXTRA\", \"TFIDF-SVM\", \"GLOVE-KNN\", \"NB-W2V\", \"CV-MLP\", \"GLOVE-MLP\", \"TFIDF-MLP\", \"TFIDF-EXTRA\", \"W2V-EXTRA\", \"CV-LR\", \"FAST-RF\", \"W2V-CNN\", \"FAST-EXTRA\", \"TFIDF-RF\", \"FAST-MLP\", \"W2V-MLP\", \"CV-CNN\", \"GLOVE-CNN\"],\n",
    "    [\"W2V-SVM\"],\n",
    "    [\"W2V-SVM\"],\n",
    "    [\"TFIDF-MLP\", \"TFIDF-SVM\", \"CV-MLP\", \"NB-CV\", \"NB-TFIDF\", \"TFIDF-EXTRA\", \"CV-EXTRA\", \"CV-LR\", \"TFIDF-RF\", \"TFIDF-CNN\", \"CV-SVM\", \"W2V-MLP\", \"FAST-SVM\", \"FAST-CNN\", \"TFIDF-KNN\", \"W2V-SVM\", \"FAST-MLP\", \"CV-RF\", \"W2V-LR\", \"W2V-CNN\", \"W2V-RF\", \"FAST-RF\", \"W2V-KNN\", \"W2V-EXTRA\", \"NB-W2V\", \"FAST-EXTRA\", \"NB-FAST\", \"FAST-KNN\", \"GLOVE-SVM\", \"GLOVE-LR\", \"CV-CNN\", \"GLOVE-RF\", \"GLOVE-MLP\", \"FAST-LR\", \"GLOVE-EXTRA\", \"CV-KNN\", \"NB-GLOVE\", \"GLOVE-CNN\", \"GLOVE-KNN\"],\n",
    "    [\"TFIDF-SVM\", \"NB-W2V\", \"W2V-CNN\", \"NB-CV\", \"TFIDF-KNN\", \"TFIDF-MLP\", \"CV-MLP\", \"CV-EXTRA\", \"TFIDF-EXTRA\", \"FAST-CNN\", \"GLOVE-CNN\", \"TFIDF-RF\", \"CV-SVM\", \"FAST-MLP\", \"CV-LR\", \"CV-RF\", \"CV-KNN\", \"W2V-SVM\", \"FAST-RF\", \"FAST-SVM\", \"W2V-KNN\", \"W2V-LR\", \"W2V-RF\", \"W2V-EXTRA\", \"NB-FAST\", \"FAST-KNN\", \"GLOVE-SVM\", \"GLOVE-RF\", \"FAST-LR\", \"GLOVE-EXTRA\", \"GLOVE-MLP\", \"CV-CNN\", \"GLOVE-KNN\"],\n",
    "    [\"CV-CNN\", \"TFIDF-MLP\", \"CV-MLP\", \"TFIDF-SVM\", \"FAST-SVM\", \"NB-CV\", \"CV-LR\", \"W2V-CNN\", \"TFIDF-EXTRA\", \"NB-W2V\", \"CV-EXTRA\", \"CV-SVM\", \"W2V-SVM\", \"TFIDF-RF\", \"W2V-LR\", \"GLOVE-MLP\", \"W2V-RF\", \"FAST-MLP\", \"FAST-CNN\", \"CV-RF\", \"CV-KNN\", \"GLOVE-SVM\", \"FAST-RF\", \"W2V-KNN\", \"FAST-LR\", \"NB-FAST\", \"TFIDF-KNN\", \"FAST-KNN\", \"GLOVE-EXTRA\", \"GLOVE-KNN\", \"GLOVE-CNN\"],\n",
    "    [\"TFIDF-MLP\", \"TFIDF-SVM\", \"CV-MLP\", \"NB-CV\", \"NB-TFIDF\", \"TFIDF-EXTRA\", \"CV-EXTRA\", \"CV-LR\", \"TFIDF-CNN\", \"CV-SVM\", \"TFIDF-RF\", \"FAST-SVM\", \"W2V-SVM\", \"FAST-CNN\", \"FAST-MLP\", \"CV-RF\", \"TFIDF-KNN\", \"W2V-LR\", \"W2V-RF\", \"FAST-RF\", \"CV-CNN\", \"NB-W2V\", \"W2V-EXTRA\", \"W2V-KNN\", \"W2V-CNN\", \"FAST-EXTRA\", \"NB-FAST\", \"GLOVE-LR\", \"GLOVE-SVM\", \"GLOVE-MLP\", \"FAST-KNN\", \"FAST-LR\", \"GLOVE-RF\", \"GLOVE-EXTRA\", \"NB-GLOVE\", \"GLOVE-KNN\", \"CV-KNN\", \"GLOVE-CNN\"],\n",
    "    [\"W2V-KNN\", \"TFIDF-SVM\", \"FAST-CNN\", \"CV-MLP\", \"TFIDF-MLP\", \"FAST-SVM\", \"CV-EXTRA\", \"TFIDF-EXTRA\", \"FAST-MLP\", \"W2V-SVM\", \"W2V-CNN\", \"W2V-RF\", \"TFIDF-KNN\", \"FAST-RF\", \"FAST-EXTRA\", \"NB-W2V\", \"W2V-EXTRA\", \"GLOVE-CNN\", \"GLOVE-RF\", \"FAST-KNN\", \"GLOVE-MLP\", \"FAST-LR\", \"CV-KNN\", \"GLOVE-KNN\", \"GLOVE-SVM\", \"NB-FAST\"],\n",
    "    [\"TFIDF-SVM\", \"TFIDF-MLP\", \"FAST-CNN\", \"CV-MLP\", \"FAST-MLP\", \"W2V-SVM\", \"CV-KNN\", \"CV-EXTRA\", \"TFIDF-EXTRA\", \"GLOVE-CNN\", \"W2V-RF\", \"NB-FAST\", \"GLOVE-MLP\", \"FAST-LR\", \"FAST-KNN\", \"GLOVE-KNN\"],\n",
    "    [\"CV-CNN\", \"TFIDF-EXTRA\", \"CV-EXTRA\", \"CV-RF\", \"TFIDF-CNN\", \"TFIDF-SVM\", \"CV-MLP\", \"FAST-CNN\", \"TFIDF-MLP\", \"TFIDF-RF\", \"W2V-LR\", \"NB-CV\", \"CV-SVM\", \"NB-TFIDF\", \"TFIDF-LR\", \"FAST-MLP\", \"FAST-EXTRA\", \"W2V-KNN\", \"W2V-EXTRA\", \"W2V-RF\", \"W2V-SVM\", \"FAST-KNN\", \"TFIDF-KNN\", \"FAST-RF\", \"NB-FAST\", \"GLOVE-EXTRA\", \"FAST-SVM\", \"GLOVE-CNN\", \"GLOVE-RF\", \"GLOVE-KNN\", \"GLOVE-SVM\", \"FAST-LR\", \"NB-W2V\", \"GLOVE-MLP\", \"W2V-CNN\", \"CV-KNN\", \"NB-GLOVE\"],\n",
    "    [\"W2V-KNN\", \"TFIDF-SVM\", \"CV-MLP\", \"FAST-CNN\", \"TFIDF-MLP\", \"FAST-SVM\", \"CV-EXTRA\", \"TFIDF-EXTRA\", \"FAST-MLP\", \"W2V-SVM\", \"W2V-RF\", \"NB-FAST\", \"W2V-EXTRA\", \"GLOVE-CNN\", \"FAST-KNN\", \"GLOVE-MLP\", \"FAST-LR\", \"GLOVE-KNN\", \"CV-KNN\"]\n",
    "    ]"
   ]
  },
  {
   "cell_type": "code",
   "execution_count": 30,
   "id": "33a6acec",
   "metadata": {},
   "outputs": [
    {
     "name": "stderr",
     "output_type": "stream",
     "text": [
      "C:\\Users\\Sara\\anaconda3\\lib\\site-packages\\ipykernel\\ipkernel.py:287: DeprecationWarning: `should_run_async` will not call `transform_cell` automatically in the future. Please pass the result to `transformed_cell` argument and any exception that happen during thetransform in `preprocessing_exc_tuple` in IPython 7.17 and above.\n",
      "  and should_run_async(code)\n",
      "C:\\Users\\Sara\\anaconda3\\lib\\site-packages\\mlxtend\\frequent_patterns\\fpcommon.py:109: DeprecationWarning: DataFrames with non-bool types result in worse computationalperformance and their support might be discontinued in the future.Please use a DataFrame with bool type\n",
      "  warnings.warn(\n"
     ]
    },
    {
     "data": {
      "text/html": [
       "<div>\n",
       "<style scoped>\n",
       "    .dataframe tbody tr th:only-of-type {\n",
       "        vertical-align: middle;\n",
       "    }\n",
       "\n",
       "    .dataframe tbody tr th {\n",
       "        vertical-align: top;\n",
       "    }\n",
       "\n",
       "    .dataframe thead th {\n",
       "        text-align: right;\n",
       "    }\n",
       "</style>\n",
       "<table border=\"1\" class=\"dataframe\">\n",
       "  <thead>\n",
       "    <tr style=\"text-align: right;\">\n",
       "      <th></th>\n",
       "      <th>support</th>\n",
       "      <th>itemsets</th>\n",
       "    </tr>\n",
       "  </thead>\n",
       "  <tbody>\n",
       "    <tr>\n",
       "      <th>0</th>\n",
       "      <td>1.0</td>\n",
       "      <td>(W2V-SVM)</td>\n",
       "    </tr>\n",
       "    <tr>\n",
       "      <th>30</th>\n",
       "      <td>0.792</td>\n",
       "      <td>(NB-FAST, TFIDF-SVM)</td>\n",
       "    </tr>\n",
       "    <tr>\n",
       "      <th>201</th>\n",
       "      <td>0.792</td>\n",
       "      <td>(FAST-MLP, NB-FAST, TFIDF-SVM)</td>\n",
       "    </tr>\n",
       "    <tr>\n",
       "      <th>511</th>\n",
       "      <td>0.792</td>\n",
       "      <td>(W2V-SVM, FAST-MLP, NB-FAST, TFIDF-SVM)</td>\n",
       "    </tr>\n",
       "    <tr>\n",
       "      <th>17</th>\n",
       "      <td>0.792</td>\n",
       "      <td>(W2V-SVM, NB-FAST)</td>\n",
       "    </tr>\n",
       "  </tbody>\n",
       "</table>\n",
       "</div>"
      ],
      "text/plain": [
       "    support                                 itemsets\n",
       "0       1.0                                (W2V-SVM)\n",
       "30    0.792                     (NB-FAST, TFIDF-SVM)\n",
       "201   0.792           (FAST-MLP, NB-FAST, TFIDF-SVM)\n",
       "511   0.792  (W2V-SVM, FAST-MLP, NB-FAST, TFIDF-SVM)\n",
       "17    0.792                       (W2V-SVM, NB-FAST)"
      ]
     },
     "execution_count": 30,
     "metadata": {},
     "output_type": "execute_result"
    }
   ],
   "source": [
    "popular_grupos = Counter(elemento for grupo in grupos for elemento in grupo).most_common()\n",
    "\n",
    "names = []\n",
    "for element in popular_grupos:\n",
    "  names.append(element[0])\n",
    "\n",
    "data = pd.DataFrame(index=range(len(grupos)),columns=names)\n",
    "data['grupos']=grupos\n",
    "\n",
    "for column in data:\n",
    "  for i in range(len(data)):\n",
    "    if column in data['grupos'][i]:\n",
    "        data[column][i]=True\n",
    "    else:\n",
    "        data[column][i]=False\n",
    "\n",
    "data = data.drop(columns=['grupos'])\n",
    "\n",
    "frequent_itemsets = apriori(data, min_support=0.60 , use_colnames= True ) \n",
    "frequent_itemsets['support'][1:] = [round(suporte,3) for suporte in frequent_itemsets['support'] if suporte!=1.0]\n",
    "frequent_itemsets.sort_values(by=['support'], ascending=False)[0:5]"
   ]
  },
  {
   "cell_type": "code",
   "execution_count": null,
   "id": "882eec96",
   "metadata": {},
   "outputs": [],
   "source": []
  }
 ],
 "metadata": {
  "kernelspec": {
   "display_name": "Python 3",
   "language": "python",
   "name": "python3"
  },
  "language_info": {
   "codemirror_mode": {
    "name": "ipython",
    "version": 3
   },
   "file_extension": ".py",
   "mimetype": "text/x-python",
   "name": "python",
   "nbconvert_exporter": "python",
   "pygments_lexer": "ipython3",
   "version": "3.8.8"
  }
 },
 "nbformat": 4,
 "nbformat_minor": 5
}
