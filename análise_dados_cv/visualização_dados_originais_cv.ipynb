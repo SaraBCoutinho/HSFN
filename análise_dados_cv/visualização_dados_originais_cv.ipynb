{
  "cells": [
    {
      "cell_type": "code",
      "source": [
        "%%capture\n",
        "# imports\n",
        "!pip install datasets\n",
        "from datasets import load_dataset\n",
        "import pandas as pd\n",
        "import matplotlib.pyplot as plt\n",
        "import matplotlib.lines as mlines\n",
        "import numpy as np\n",
        "!pip install deslib\n",
        "from deslib.util.diversity import double_fault\n",
        "from sklearn.feature_extraction.text import TfidfTransformer,TfidfVectorizer, CountVectorizer\n",
        "!pip install 'umap-learn==0.3.10'\n",
        "!pip install umap-learn[plot]\n",
        "from umap.umap_ import UMAP\n",
        "\n",
        "# Técnicas de extração de características\n",
        "cv = CountVectorizer(analyzer='word', lowercase=True, stop_words='english')\n",
        "\n",
        "# dataset liar\n",
        "dataset_liar = load_dataset('liar')\n",
        "liar_train, liar_test, liar_val = pd.DataFrame(dataset_liar['train']), pd.DataFrame(dataset_liar['test']), pd.DataFrame(dataset_liar['validation'])\n",
        "\n",
        "# dataset sentimental liar (senti)\n",
        "senti_train, senti_test, senti_val = liar_train.copy(), liar_test.copy(), liar_val.copy()\n",
        "senti_labels={5:0, 4:0, 3:1, 1:0,2:1,0:0} # de acordo com proposta do conjunto de dados Sentimental Liar em [1].\n",
        "senti_train['label'], senti_test['label'], senti_val['label'] = senti_train['label'].map(senti_labels), senti_test['label'].map(senti_labels), senti_val['label'].map(senti_labels)\n",
        "\n",
        "# funções para geração dos gráficos\n",
        "method = UMAP(n_neighbors=2, metric='euclidean', random_state=123456987, min_dist=0.7, n_components=2,)\n",
        "\n",
        "def plot_diversity_6(D_tilde,dataset_name,n_labels,embedding): # 6 labels\n",
        "    s = 100\n",
        "    colors, markers = {}, {}\n",
        "    colors[0], colors[1], colors[2], colors[3], colors[4], colors[5] = 'gray', 'lightblue', 'lightslategray', 'darkslategray', 'midnightblue', 'black'\n",
        "    markers[0], markers[1], markers[2], markers[3], markers[4], markers[5] = 's', 'H', 'd', 'P', '*', 'X'\n",
        "\n",
        "    n_instances, n_labels, _ = D_tilde.shape\n",
        "    plt.figure(figsize=(15,10))\n",
        "    for idx in range(n_instances):\n",
        "        for idx2 in range(n_labels):\n",
        "            x, y = D_tilde[idx,idx2, 0], D_tilde[idx,idx2, 1]\n",
        "            plt.scatter(x, y, color=colors[idx2], s=s, lw=0, marker=markers[idx2])\n",
        "    m1 = mlines.Line2D([], [], color=colors[0], marker=markers[0], linestyle='None', markersize=10, label='0')\n",
        "    m2 = mlines.Line2D([], [], color=colors[1], marker=markers[1], linestyle='None', markersize=10, label='1')\n",
        "    m3 = mlines.Line2D([], [], color=colors[2], marker=markers[2], linestyle='None', markersize=10, label='2')\n",
        "    m4 = mlines.Line2D([], [], color=colors[3], marker=markers[3], linestyle='None', markersize=10, label='3')\n",
        "    m5 = mlines.Line2D([], [], color=colors[4], marker=markers[4], linestyle='None', markersize=10, label='4')\n",
        "    m6 = mlines.Line2D([], [], color=colors[5], marker=markers[5], linestyle='None', markersize=10, label='5')\n",
        "    plt.legend(handles=[m1, m2, m3, m4, m5, m6])\n",
        "    plt.tight_layout()\n",
        "    plt.savefig(dataset_name + '_' + embedding +'.pdf', dpi=450)\n",
        "\n",
        "def plot_diversity_2(D_tilde,dataset_name,n_labels,embedding): # 2 labels\n",
        "    s = 100\n",
        "    colors, markers = {}, {}\n",
        "    colors[0], colors[1]  = 'gray', 'darkslategray'\n",
        "    markers[0], markers[1] = 's', 'P'\n",
        "    n_instances, n_labels, _ = D_tilde.shape\n",
        "    plt.figure(figsize=(15,10))\n",
        "    for idx in range(n_instances):\n",
        "        for idx2 in range(n_labels):\n",
        "            x, y = D_tilde[idx,idx2, 0], D_tilde[idx,idx2, 1]\n",
        "            plt.scatter(x, y, color=colors[idx2], s=s, lw=0, marker=markers[idx2])\n",
        "    m1 = mlines.Line2D([], [], color=colors[0], marker=markers[0], linestyle='None', markersize=10, label=0)\n",
        "    m2 = mlines.Line2D([], [], color=colors[1], marker=markers[1], linestyle='None', markersize=10, label=1)\n",
        "    plt.legend(handles=[m1, m2])#, m3, m4, m5])\n",
        "    plt.tight_layout()\n",
        "    plt.savefig(dataset_name + '_' + embedding +'.pdf', dpi=450)\n",
        "\n",
        "def plot_cv(df_raw_cv, n_labels):\n",
        "    df_raw_cv = df_raw_cv\n",
        "    matriz = cv.fit_transform(df_raw_cv['statement'])\n",
        "    df_cv = pd.DataFrame(matriz.toarray())\n",
        "    df_cv['label'] = df_raw_cv['label']\n",
        "    n_instances = df_cv.shape[0] # tamanho dos dados\n",
        "    n_labels = n_labels # quantidade de labels\n",
        "    label, methods = df_cv['label'], df_cv.drop('label', axis=1)\n",
        "    D = df_cv\n",
        "    D[D==np.inf] = 0\n",
        "    D_tilde = method.fit_transform(D)\n",
        "    if n_labels==2:\n",
        "      shape_x=int(D_tilde.shape[0]/2)\n",
        "    elif n_labels==6:\n",
        "      shape_x=int(D_tilde.shape[0]/6)\n",
        "    D_tilde2 = D_tilde.reshape(shape_x, n_labels, 2)\n",
        "    return df_cv,D_tilde2"
      ],
      "metadata": {
        "id": "JRnxtStavKuI"
      },
      "execution_count": 1,
      "outputs": []
    },
    {
      "cell_type": "code",
      "execution_count": 9,
      "metadata": {
        "id": "g3u0mf-_5ieT"
      },
      "outputs": [],
      "source": [
        "%%capture\n",
        "# geração de gráficos para cada dataset\n",
        "df_raw_liar = liar_val[['statement','label']].copy() # liar dataset\n",
        "cv.fit_transform([df_raw_liar['statement'][0]])\n",
        "D_tilde2_liar = plot_cv(df_raw_liar,6)[1]\n",
        "plot_diversity_6(D_tilde2_liar,'liar',6,'cv')\n",
        "\n",
        "df_raw_senti = senti_val[['statement','label']].copy() # senti dataset\n",
        "cv.fit_transform([df_raw_senti['statement'][0]])\n",
        "D_tilde2_senti = plot_cv(df_raw_senti,2)[1]\n",
        "plot_diversity_2(D_tilde2_senti,'senti',2,'cv')"
      ]
    },
    {
      "cell_type": "markdown",
      "source": [
        "Referência:\n",
        "\n",
        "[1] Upadhayay, B., & Behzadan, V. (2020, November). Sentimental liar: Extended corpus and deep learning models for fake claim classification. In 2020 IEEE International Conference on Intelligence and Security Informatics (ISI) (pp. 1-6). IEEE."
      ],
      "metadata": {
        "id": "HynxL-vv6sd1"
      }
    }
  ],
  "metadata": {
    "colab": {
      "provenance": []
    },
    "kernelspec": {
      "display_name": "Python 3",
      "name": "python3"
    },
    "language_info": {
      "name": "python"
    }
  },
  "nbformat": 4,
  "nbformat_minor": 0
}