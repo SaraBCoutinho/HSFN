{
 "cells": [
  {
   "cell_type": "markdown",
   "id": "7b883825",
   "metadata": {},
   "source": [
    "Para a construçao do grafico foram considerados os grupos correspondentes a cada coluna e a quantidade de vezes que ele obteve o maior resultado dentre os demais (em percentual). "
   ]
  },
  {
   "cell_type": "code",
   "execution_count": 1,
   "id": "8b6edd18",
   "metadata": {},
   "outputs": [],
   "source": [
    "import pandas as pd\n",
    "import matplotlib.pyplot as plt\n",
    "import numpy as np"
   ]
  },
  {
   "cell_type": "code",
   "execution_count": 19,
   "id": "51e6b536",
   "metadata": {},
   "outputs": [],
   "source": [
    "#calculo percentuais \n",
    "total_maiores_resultados = 24 # considerando quantidade de métricas e conjuntos de dados \n",
    "percentual_monoliticos = round(13/total_maiores_resultados,3)*100\n",
    "percentual_a = 0.0\n",
    "percentual_b = round(1/total_maiores_resultados,3)*100\n",
    "percentual_c = round(3/total_maiores_resultados,3)*100\n",
    "percentual_d = round(7/total_maiores_resultados,3)*100"
   ]
  },
  {
   "cell_type": "code",
   "execution_count": 20,
   "id": "4a97e9dd",
   "metadata": {},
   "outputs": [
    {
     "data": {
      "image/png": "[encoded data removed]",
      "text/plain": [
       "<Figure size 432x288 with 1 Axes>"
      ]
     },
     "metadata": {
      "needs_background": "light"
     },
     "output_type": "display_data"
    }
   ],
   "source": [
    "cores=['lightgray','lightslategray', 'gray','slategray', 'darkslategray']\n",
    "grupo = ['Monolítico','A', 'B', 'C', 'D']\n",
    "percentual=[percentual_monoliticos,percentual_a,percentual_b,percentual_c,percentual_d]\n",
    "plt.bar(grupo,percentual,color=cores)\n",
    "plt.xlabel('Grupo')\n",
    "plt.ylabel('Percentual de maiores resultados (%)')\n",
    "plt.savefig('Gráfico_colunas_grupos.pdf')"
   ]
  }
 ],
 "metadata": {
  "kernelspec": {
   "display_name": "Python 3",
   "language": "python",
   "name": "python3"
  },
  "language_info": {
   "codemirror_mode": {
    "name": "ipython",
    "version": 3
   },
   "file_extension": ".py",
   "mimetype": "text/x-python",
   "name": "python",
   "nbconvert_exporter": "python",
   "pygments_lexer": "ipython3",
   "version": "3.8.8"
  }
 },
 "nbformat": 4,
 "nbformat_minor": 5
}
